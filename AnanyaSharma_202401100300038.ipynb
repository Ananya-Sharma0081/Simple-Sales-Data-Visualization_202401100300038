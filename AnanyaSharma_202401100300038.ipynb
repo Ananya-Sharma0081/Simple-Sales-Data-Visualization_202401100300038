{
 "cells": [
  {
   "cell_type": "code",
   "execution_count": null,
   "metadata": {
    "vscode": {
     "languageId": "plaintext"
    }
   },
   "outputs": [],
   "source": [
    "import pandas as pd\n",
    "import matplotlib.pyplot as plt\n",
    "\n",
    "# Load the sales data from the CSV file\n",
    "data = pd.read_csv('sales.csv')\n",
    "\n",
    "# Convert Date column to datetime format\n",
    "data['Date'] = pd.to_datetime(data['Date'])\n",
    "\n",
    "# Total Revenue by Product (Bar Chart)\n",
    "plt.figure(figsize=(8, 5))\n",
    "product_revenue = data.groupby('Product')['Revenue'].sum()\n",
    "product_revenue.plot(kind='bar', color='green')\n",
    "plt.title('Total Revenue by Product')\n",
    "plt.xlabel('Product')\n",
    "plt.ylabel('Revenue')\n",
    "plt.xticks(rotation=45)\n",
    "plt.show()"
   ]
  },
  {
   "cell_type": "code",
   "execution_count": null,
   "metadata": {
    "vscode": {
     "languageId": "plaintext"
    }
   },
   "outputs": [],
   "source": [
    "import pandas as pd\n",
    "import matplotlib.pyplot as plt\n",
    "\n",
    "# Load the sales data from the CSV file\n",
    "data = pd.read_csv('sales.csv')\n",
    "\n",
    "# Convert Date column to datetime format\n",
    "data['Date'] = pd.to_datetime(data['Date'])\n",
    "\n",
    "# Plotting Units Sold Over Time for Each Product\n",
    "plt.figure(figsize=(10, 6))\n",
    "\n",
    "# Iterate over each unique product and plot separately\n",
    "for product in data['Product'].unique():\n",
    "    product_data = data[data['Product'] == product]\n",
    "    plt.plot(product_data['Date'], product_data['UnitsSold'], marker='o', linestyle='-', label=product)\n",
    "\n",
    "# Adding plot details\n",
    "plt.title('Units Sold Over Time by Product')\n",
    "plt.xlabel('Date')\n",
    "plt.ylabel('Units Sold')\n",
    "plt.legend(title='Product')\n",
    "plt.grid(True, linestyle='--', alpha=0.5)\n",
    "plt.xticks(rotation=45)\n",
    "plt.show()\n"
   ]
  }
 ],
 "metadata": {
  "language_info": {
   "name": "python"
  }
 },
 "nbformat": 4,
 "nbformat_minor": 2
}
